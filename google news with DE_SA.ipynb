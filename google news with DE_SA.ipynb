{
 "cells": [
  {
   "cell_type": "code",
   "execution_count": 1,
   "metadata": {},
   "outputs": [],
   "source": [
    "# import nltk\n",
    "# from nltk.sentiment import SentimentIntensityAnalyzer\n",
    "from bs4 import BeautifulSoup\n",
    "import requests\n",
    "import matplotlib.pyplot as plt\n",
    "from selenium import webdriver\n",
    "import time"
   ]
  },
  {
   "cell_type": "code",
   "execution_count": 2,
   "metadata": {},
   "outputs": [],
   "source": [
    "# Fetch the webpage content\n",
    "company_name = input()\n",
    "url = \"https://news.google.com/search?q={}&hl=en-IN&gl=IN&ceid=IN%3Aen\".format(company_name)  # Replace with the URL of the webpage you want to scrape\n",
    "response = requests.get(url)\n",
    "html_content = response.text\n",
    "driver=webdriver.Edge()\n",
    "driver.maximize_window()"
   ]
  },
  {
   "cell_type": "code",
   "execution_count": 3,
   "metadata": {},
   "outputs": [],
   "source": [
    "soup = BeautifulSoup(html_content, \"html.parser\")\n",
    "\n",
    "# Extract the headings and perform sentiment analysis\n",
    "headings = soup.find_all(\"h3\")\n",
    "\n",
    "# Initialize sentiment analyzer\n",
    "# analyzer = SentimentIntensityAnalyzer()"
   ]
  },
  {
   "cell_type": "code",
   "execution_count": 4,
   "metadata": {},
   "outputs": [
    {
     "name": "stdout",
     "output_type": "stream",
     "text": [
      "Heading: RIL shares: What analysts say ahead of Reliance Industries AGM on August 28; stock price targets & more\n",
      "Link :  https://news.google.com./articles/CBMirgFodHRwczovL3d3dy5idXNpbmVzc3RvZGF5LmluL21hcmtldHMvY29tcGFueS1zdG9jay9zdG9yeS9yaWwtc2hhcmVzLXdoYXQtYW5hbHlzdHMtc2F5LWFoZWFkLW9mLXJlbGlhbmNlLWluZHVzdHJpZXMtYWdtLW9uLWF1Z3VzdC0yOC1zdG9jay1wcmljZS10YXJnZXRzLW1vcmUtMzk0OTg4LTIwMjMtMDgtMjLSAbIBaHR0cHM6Ly93d3cuYnVzaW5lc3N0b2RheS5pbi9hbXAvbWFya2V0cy9jb21wYW55LXN0b2NrL3N0b3J5L3JpbC1zaGFyZXMtd2hhdC1hbmFseXN0cy1zYXktYWhlYWQtb2YtcmVsaWFuY2UtaW5kdXN0cmllcy1hZ20tb24tYXVndXN0LTI4LXN0b2NrLXByaWNlLXRhcmdldHMtbW9yZS0zOTQ5ODgtMjAyMy0wOC0yMg?hl=en-IN&gl=IN&ceid=IN%3Aen\n",
      "https://www.businesstoday.in/markets/company-stock/story/ril-shares-what-analysts-say-ahead-of-reliance-industries-agm-on-august-28-stock-price-targets-more-394988-2023-08-22\n",
      "SUMMARY   Nomura India said RIL’s O2C segment will benefit from strong global oil demand growth over H22023.  CLSA has suggested a price target of Rs 3,060 on the stock; JM Financial sees it at Rs 2,900.  Eyes would be on launch of affordable 5G smartphones along with attractive 5G tariff plans.        \n",
      "Reliance Industries will be convening its 46th annual general meeting on August 28 and, if we go by analysts, investor would be focusing on the timeline for potential listing of retail business, updates on digital and oil-to-chemical (O2C) businesses and progress of various Clean Energy projects.\n",
      "\"We believe RIL’s upcoming AGM is likely to be the next trigger for the stock price, as it may provide a roadmap for unlocking value in the retail segment and further updates on new energy business and JFS,\" said Nomura India, which has reiterated its 'Buy' on the stock with a target of Rs 2,925.\n",
      "JM Financial expects investors to keenly follow updates on potential timeline for listing of retail and digital businesses and any potential strategic stake sale in O2C business. It said investors would eye progress of various projects underway in Clean Energy business with timelines around project commissioning and potential earning potential from such projects. It also sees launch of affordable 5G smartphones along with attractive 5G tariff plans and further updates around succession plans.\n",
      "Also Read: Top phones under Rs 25,000 in India: Realme 11 Pro, Samsung Galaxy F34, OnePlus Nord CE3 Lite and more\n",
      "Reliance Jio is likely to launch two Jio 5G smartphones in India, recent media reports suggested. The two rumoured smartphones have been spotted on India’s BIS certification website, hinting towards the imminent launch. The listing was spotted by tipster Mukul Sharma.\n",
      "Nomura India said the outlook across segments remains optimistic. It said the O2C segment will benefit from strong global oil demand growth of over 2.2 million barrel per day over H22023, CDU additions lagging demand growth by 0.5 million barrel per day, and global inventory levels remaining well below five-year average levels across major hubs.\n",
      "It sees sharp volume growth for upstream as MJ field commences production; robust growth for retail underpinned by store additions and operating leverage; and potential upsides for Jio, if FY25 tariff hikes are higher than anticipated.\n",
      "CLSA has suggested a price target of Rs 3,060 on the stock.\n",
      "Watch: Ashish Kacholia-backed Aeroflex Industries' IPO oversubscribed within an hour of opening; GMP rises; should you apply or not? See what brokerages say\n",
      "JM Financial has suggested a 'Buy' on RIL stock with an unchanged target of 2,900, as it feels concerns on debt are overdone. The RIL stock, which has fallen 2.2 per cent in 2023 so far, has an average target price of Rs 2,789, which suggests 11 per cent potential upside ahead.\n",
      "\"We expect RIL’s net debt to peak in FY24 and then decline gradually as capex will not only moderate but, importantly, also be fully funded by a gradual increase in internal cash generation. RIL’s guidance on keeping reported net debt to Ebitda  below 1 time (0.9 time in March) also gives comfort. Be that as it may, we believe RIL could still drive a robust 14-15 per cent EPS CAGR over the next 3-5 years with Jio’s ARPU expected to rise at 10 per cent CAGR over FY23-28 with ARPU being on a structural uptrend given the industry structure, future investment needs, and the need to avoid a duopoly market,\" JM Financial said.\n",
      "The domestic brokerage said growth momentum continues in the company’s retail business as RIL is driving omni-channel capabilities across segments.\n",
      "Also read: Hot stocks on August 22, 2023: Adani Power, Zomato, BHEL, Welspun Enterprises, Union Bank and more\n",
      "Also read: Tata Power shares in focus today as arm inks solar deal with Tata Motors \n",
      "Also read: Adani Power shares in focus as Adani firm aims for 21,110 MW thermal generation capacity by FY29\n",
      "\n",
      "     Published on: Aug 22, 2023, 9:10 AM IST   Posted by: Tarab Zaidi, Aug 22, 2023, 9:03 AM IST     IN THIS STORY  #RIL #RIL AGM #RIL SHARES #RIL share price #Reliance Industries #Reliance Industries AGM\n",
      "------------------------------\n",
      "\n",
      "Heading: Dividend stocks: Reliance, 14 other dividend paying stocks to trade ex-dividend today | Mint\n",
      "Link :  https://news.google.com./articles/CBMilQFodHRwczovL3d3dy5saXZlbWludC5jb20vbWFya2V0L3N0b2NrLW1hcmtldC1uZXdzL2RpdmlkZW5kLXN0b2Nrcy1yaWwtc2hhcmVzLWFtb25nLTE1LXN0b2Nrcy10by10cmFkZS1leC1kaXZpZGVuZC10b2RheS1hdWd1c3QtMjEtMTE2OTI1ODcyMDEzNDMuaHRtbNIBmQFodHRwczovL3d3dy5saXZlbWludC5jb20vbWFya2V0L3N0b2NrLW1hcmtldC1uZXdzL2RpdmlkZW5kLXN0b2Nrcy1yaWwtc2hhcmVzLWFtb25nLTE1LXN0b2Nrcy10by10cmFkZS1leC1kaXZpZGVuZC10b2RheS1hdWd1c3QtMjEvYW1wLTExNjkyNTg3MjAxMzQzLmh0bWw?hl=en-IN&gl=IN&ceid=IN%3Aen\n",
      "https://www.livemint.com/market/stock-market-news/dividend-stocks-ril-shares-among-15-stocks-to-trade-ex-dividend-today-august-21-11692587201343.html\n",
      "\n",
      "Heading: Reliance Jio Lost AGR Market Share in 13 Circles in Q1 FY24: ICICI Securities\n",
      "Link :  https://news.google.com./articles/CBMiRmh0dHBzOi8vdGVsZWNvbXRhbGsuaW5mby9yZWxpYW5jZS1qaW8tbG9zdC1hZ3ItbWFya2V0LXNoYXJlLWluLzg1OTQyNy_SAQA?hl=en-IN&gl=IN&ceid=IN%3Aen\n",
      "https://telecomtalk.info/reliance-jio-lost-agr-market-share-in/859427/\n",
      "\n",
      "Heading: Mukesh Ambani eyes Rs 25000-40000 crore in new move, Reliance Retail files proposal for…\n",
      "Link :  https://news.google.com./articles/CBMihAFodHRwczovL3d3dy5kbmFpbmRpYS5jb20vYnVzaW5lc3MvcmVwb3J0LW11a2VzaC1hbWJhbmktZXllcy1uZXctcnMtMjUwMDAtNDAwMDAtY3JvcmUtbW92ZS1yZWxpYW5jZS1yZXRhaWwtZmlsZXMtcHJvcG9zYWwtZm9yLTMwNTY3NDPSAYgBaHR0cHM6Ly93d3cuZG5haW5kaWEuY29tL2J1c2luZXNzL3JlcG9ydC1tdWtlc2gtYW1iYW5pLWV5ZXMtbmV3LXJzLTI1MDAwLTQwMDAwLWNyb3JlLW1vdmUtcmVsaWFuY2UtcmV0YWlsLWZpbGVzLXByb3Bvc2FsLWZvci0zMDU2NzQzL2FtcA?hl=en-IN&gl=IN&ceid=IN%3Aen\n",
      "https://www.dnaindia.com/business/report-mukesh-ambani-eyes-new-rs-25000-40000-crore-move-reliance-retail-files-proposal-for-3056743\n",
      "\n",
      "Heading: ABB India Receives an Order from Reliance Life Sciences to Automate its Nashik Facilities\n",
      "Link :  https://news.google.com./articles/CBMid2h0dHBzOi8vd3d3LmVxdWl0eXBhbmRpdC5jb20vYWJiLWluZGlhLXJlY2VpdmVzLWFuLW9yZGVyLWZyb20tcmVsaWFuY2UtbGlmZS1zY2llbmNlcy10by1hdXRvbWF0ZS1pdHMtbmFzaGlrLWZhY2lsaXRpZXMv0gEA?hl=en-IN&gl=IN&ceid=IN%3Aen\n",
      "https://www.equitypandit.com/abb-india-receives-an-order-from-reliance-life-sciences-to-automate-its-nashik-facilities/\n",
      "\n",
      "Heading: ABB India bags order for automating Reliance Life Sciences' Nashik facilities\n",
      "Link :  https://news.google.com./articles/CBMijAFodHRwczovL3d3dy5tb25leWNvbnRyb2wuY29tL25ld3MvYnVzaW5lc3Mvc3RvY2tzL2FiYi1pbmRpYS1iYWdzLW9yZGVyLWZvci1hdXRvbWF0aW5nLXJlbGlhbmNlLWxpZmUtc2NpZW5jZXMtbmFzaGlrLWZhY2lsaXRpZXMtMTEyMjg4NTEuaHRtbNIBkAFodHRwczovL3d3dy5tb25leWNvbnRyb2wuY29tL25ld3MvYnVzaW5lc3Mvc3RvY2tzL2FiYi1pbmRpYS1iYWdzLW9yZGVyLWZvci1hdXRvbWF0aW5nLXJlbGlhbmNlLWxpZmUtc2NpZW5jZXMtbmFzaGlrLWZhY2lsaXRpZXMtMTEyMjg4NTEuaHRtbC9hbXA?hl=en-IN&gl=IN&ceid=IN%3Aen\n",
      "https://www.moneycontrol.com/news/business/stocks/abb-india-bags-order-for-automating-reliance-life-sciences-nashik-facilities-11228851.html\n"
     ]
    },
    {
     "ename": "TypeError",
     "evalue": "'NoneType' object is not callable",
     "output_type": "error",
     "traceback": [
      "\u001b[1;31m---------------------------------------------------------------------------\u001b[0m",
      "\u001b[1;31mTypeError\u001b[0m                                 Traceback (most recent call last)",
      "Cell \u001b[1;32mIn[4], line 51\u001b[0m\n\u001b[0;32m     49\u001b[0m soup1\u001b[39m=\u001b[39mBeautifulSoup(response1,\u001b[39m'\u001b[39m\u001b[39mhtml.parser\u001b[39m\u001b[39m'\u001b[39m)\n\u001b[0;32m     50\u001b[0m section\u001b[39m=\u001b[39msoup1\u001b[39m.\u001b[39mfind(\u001b[39m'\u001b[39m\u001b[39mdiv\u001b[39m\u001b[39m'\u001b[39m,class_\u001b[39m=\u001b[39m\u001b[39m'\u001b[39m\u001b[39mcontent_wrapper\u001b[39m\u001b[39m'\u001b[39m)\n\u001b[1;32m---> 51\u001b[0m paras\u001b[39m=\u001b[39msection\u001b[39m.\u001b[39;49mfindall(\u001b[39m'\u001b[39;49m\u001b[39mp\u001b[39;49m\u001b[39m'\u001b[39;49m)\n\u001b[0;32m     52\u001b[0m \u001b[39mfor\u001b[39;00m para \u001b[39min\u001b[39;00m paras:\n\u001b[0;32m     53\u001b[0m     \u001b[39mif\u001b[39;00m(para):\n",
      "\u001b[1;31mTypeError\u001b[0m: 'NoneType' object is not callable"
     ]
    }
   ],
   "source": [
    "\n",
    "for heading in headings:\n",
    "    # Extract text from heading\n",
    "    \n",
    "    text = heading.text.strip()\n",
    "    # links = []\n",
    "\n",
    "    link = heading.a.get('href')\n",
    "    # links.append(link)\n",
    "    # sentiment_scores = analyzer.polarity_scores(text)\n",
    "    print(\"Heading:\", text)\n",
    "    print(\"Link : \" ,\"https://news.google.com\" +link)\n",
    "    driver.get('https://news.google.com'+link)\n",
    "    time.sleep(3)\n",
    "    link1=driver.current_url\n",
    "    print(link1)\n",
    "    driver.execute_script(\"window.open('', '_blank');\")\n",
    "    driver.switch_to.window(driver.window_handles[0])\n",
    "  \n",
    "    \n",
    "    if 'https://www.livemint.com/' in link1:\n",
    "        response1=requests.get(link1).text\n",
    "        soup1=BeautifulSoup(response1,'html.parser')\n",
    "        para=soup1.find('div',class_='liveSecIntro')\n",
    "        if(para):\n",
    "            para_text=para.text.strip()\n",
    "            print(para_text)\n",
    "            print('------------------------------')\n",
    "        \n",
    "    elif 'economictimes' in link1:\n",
    "        response1=requests.get(link1).text\n",
    "        soup1=BeautifulSoup(response1,'html.parser')\n",
    "        para=soup1.find('div',class_='artText')\n",
    "        if(para):\n",
    "            para_text=para.text.strip()\n",
    "            print(para_text)\n",
    "            print('------------------------------')\n",
    "    \n",
    "    elif 'businesstoday.in' in link1:\n",
    "        response1=requests.get(link1).text\n",
    "        soup1=BeautifulSoup(response1,'html.parser')\n",
    "        para=soup1.find('div',class_='story-with-main-sec')\n",
    "        if(para):\n",
    "            para_text=para.text.strip()\n",
    "            print(para_text)\n",
    "            print('------------------------------')\n",
    "\n",
    "    elif 'moneycontrol.com' in link1:\n",
    "        response1=requests.get(link1).text\n",
    "        soup1=BeautifulSoup(response1,'html.parser')\n",
    "        section=soup1.find('div',class_='content_wrapper')\n",
    "        paras=section.findall('p')\n",
    "        for para in paras:\n",
    "            if(para):\n",
    "                para_text=para.text.strip()\n",
    "                print(para_text)\n",
    "        print('------------------------------')\n",
    "\n",
    "    \n",
    "    \n",
    "    \n",
    "    # print(\"Sentiment Scores:\", sentiment_scores)\n",
    "    # compound_score = sentiment_scores[\"compound\"]\n",
    "    # if compound_score >= 0.05:\n",
    "    #     sentiment = \"Positive\"\n",
    "    # elif compound_score <= -0.05:\n",
    "    #     sentiment = \"Negative\"\n",
    "    # else:\n",
    "    #     sentiment = \"Neutral\"\n",
    "    # print(\"Sentiment:\", sentiment)\n",
    "    print()\n",
    "\n",
    "    # print(text)"
   ]
  },
  {
   "cell_type": "code",
   "execution_count": null,
   "metadata": {},
   "outputs": [],
   "source": [
    "\n",
    "\n",
    "\n",
    "\n",
    "\n",
    "\n",
    "\n",
    "\n"
   ]
  },
  {
   "cell_type": "code",
   "execution_count": null,
   "metadata": {},
   "outputs": [],
   "source": [
    "# sentiment_scores = analyzer.polarity_scores(text)"
   ]
  },
  {
   "cell_type": "code",
   "execution_count": null,
   "metadata": {},
   "outputs": [],
   "source": [
    "# print(\"Heading:\", text)\n",
    "# print(\"Sentiment Scores:\", sentiment_scores)"
   ]
  },
  {
   "cell_type": "code",
   "execution_count": null,
   "metadata": {},
   "outputs": [],
   "source": [
    "# compound_score = sentiment_scores[\"compound\"]\n",
    "# if compound_score >= 0.05:\n",
    "#     sentiment = \"Positive\"\n",
    "# elif compound_score <= -0.05:\n",
    "#     sentiment = \"Negative\"\n",
    "# else:\n",
    "#     sentiment = \"Neutral\"\n",
    "# print(\"Sentiment:\", sentiment)\n",
    "# print()"
   ]
  }
 ],
 "metadata": {
  "kernelspec": {
   "display_name": "Elec",
   "language": "python",
   "name": "python3"
  },
  "language_info": {
   "codemirror_mode": {
    "name": "ipython",
    "version": 3
   },
   "file_extension": ".py",
   "mimetype": "text/x-python",
   "name": "python",
   "nbconvert_exporter": "python",
   "pygments_lexer": "ipython3",
   "version": "3.11.4"
  },
  "orig_nbformat": 4
 },
 "nbformat": 4,
 "nbformat_minor": 2
}
