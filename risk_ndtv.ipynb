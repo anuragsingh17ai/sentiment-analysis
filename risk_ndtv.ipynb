{
 "cells": [
  {
   "cell_type": "code",
   "execution_count": 34,
   "metadata": {},
   "outputs": [],
   "source": [
    "import requests\n",
    "import time\n",
    "from bs4 import BeautifulSoup\n",
    "from selenium import webdriver\n",
    "from selenium.webdriver.common.by import By\n",
    "from selenium.webdriver.support.ui import WebDriverWait\n",
    "from selenium.webdriver.support import expected_conditions as EC"
   ]
  },
  {
   "cell_type": "code",
   "execution_count": 35,
   "metadata": {},
   "outputs": [],
   "source": [
    "driver = webdriver.Edge()\n",
    "driver.maximize_window()"
   ]
  },
  {
   "cell_type": "code",
   "execution_count": 36,
   "metadata": {},
   "outputs": [],
   "source": [
    "company= input(\"Enter company name : \")\n",
    "url='https://www.ndtv.com/search?searchtext='\n",
    "url+=company\n"
   ]
  },
  {
   "cell_type": "code",
   "execution_count": 39,
   "metadata": {},
   "outputs": [
    {
     "name": "stdout",
     "output_type": "stream",
     "text": [
      "www.ndtv.com\n",
      "www.ndtv.com\n",
      "www.ndtv.com/business\n",
      "www.ndtv.com/business\n",
      "www.ndtv.com/business\n",
      "www.gadgets360.com\n",
      "www.ndtv.com\n",
      "www.gadgets360.com\n",
      "food.ndtv.com\n",
      "www.gadgets360.com\n",
      "www.ndtv.com\n",
      "www.gadgets360.com\n",
      "www.ndtv.com/business\n",
      "www.ndtv.com/business\n",
      "www.ndtv.com/business\n",
      "\n",
      "\n",
      "\n",
      "\n",
      "\n",
      "\n",
      "\n",
      "\n",
      "\n",
      "\n",
      "\n",
      "\n",
      "\n",
      "\n",
      "\n"
     ]
    }
   ],
   "source": [
    "driver.get(url)\n",
    "target_headline_xpath='//div[@class=\"src_itm-ttl\"]'\n",
    "\n",
    "headline_element=driver.find_elements(By.XPATH,target_headline_xpath)  #list-txt_bt-wr\n",
    "\n",
    "count=0\n",
    "\n",
    "for headline in headline_element:\n",
    "    count+=1\n",
    "    link_element    = headline.find_element(By.TAG_NAME, 'a')\n",
    "   \n",
    "    headline_text   =link_element.get_attribute('title')\n",
    "    link_href       = link_element.get_attribute('href')\n",
    "\n",
    "    print(headline_text)  #headline toh aa gyi\n",
    "\n",
    "    #Now news nikalte hai\n",
    "    driver.execute_script(\"window.open('', '_blank');\")\n",
    "    driver.switch_to.window(driver.window_handles[1])\n",
    "\n",
    "    driver.get(link_href)\n",
    "    article_element     =driver.find_element(By.XPATH,'//div[@class=\"sp-cn ins_storybody\"]')\n",
    "    paras               =article_element.find_elements(By.TAG_NAME,'p')\n",
    "\n",
    "    for para in paras:\n",
    "        text=para.text\n",
    "        print(text)\n",
    "    \n",
    "    driver.switch_to.window(driver.window_handles[0])\n",
    "\n",
    "    try:\n",
    "        driver.find_element(By.XPATH,'//*[@id=\"__cricketsubscribe\"]/div[2]/div[2]/a[1]')\n",
    "        driver.find_element(By.XPATH,'//*[@id=\"__cricketsubscribe\"]/div[2]/div[2]/a[1]').click()\n",
    "    except:\n",
    "        print('no pop up')\n",
    "    if(count%15==0 and driver.find_element(By.XPATH,'//*[@id=\"allloadmorenews_btn\"]/a')):\n",
    "        driver.find_element(By.XPATH,'//*[@id=\"allloadmorenews_btn\"]/a').click()\n",
    "\n",
    "    print('------------')\n",
    "        # time.sleep(5)\n",
    "# driver .close()"
   ]
  },
  {
   "cell_type": "code",
   "execution_count": null,
   "metadata": {},
   "outputs": [],
   "source": []
  }
 ],
 "metadata": {
  "kernelspec": {
   "display_name": "Python 3",
   "language": "python",
   "name": "python3"
  },
  "language_info": {
   "codemirror_mode": {
    "name": "ipython",
    "version": 3
   },
   "file_extension": ".py",
   "mimetype": "text/x-python",
   "name": "python",
   "nbconvert_exporter": "python",
   "pygments_lexer": "ipython3",
   "version": "3.11.4"
  },
  "orig_nbformat": 4
 },
 "nbformat": 4,
 "nbformat_minor": 2
}
